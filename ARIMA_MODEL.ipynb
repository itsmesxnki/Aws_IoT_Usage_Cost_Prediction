{
 "cells": [
  {
   "cell_type": "code",
   "execution_count": 1,
   "metadata": {},
   "outputs": [
    {
     "name": "stderr",
     "output_type": "stream",
     "text": [
      "C:\\Users\\hp\\AppData\\Local\\Temp\\ipykernel_17860\\3136033578.py:23: FutureWarning: 'M' is deprecated and will be removed in a future version, please use 'ME' instead.\n",
      "  monthly_data = data['TotalCost'].resample('M').sum()\n"
     ]
    },
    {
     "name": "stdout",
     "output_type": "stream",
     "text": [
      "Predicted cost for July 2024: $14.975900244194577\n"
     ]
    },
    {
     "name": "stderr",
     "output_type": "stream",
     "text": [
      "C:\\Users\\hp\\AppData\\Local\\Temp\\ipykernel_17860\\3136033578.py:44: FutureWarning: Series.__getitem__ treating keys as positions is deprecated. In a future version, integer keys will always be treated as labels (consistent with DataFrame behavior). To access a value by position, use `ser.iloc[pos]`\n",
      "  print(f\"Predicted cost for {next_month.strftime('%B %Y')}: ${forecast[0]}\")\n"
     ]
    }
   ],
   "source": [
    "#Import Libraries\n",
    "import pandas as pd\n",
    "#A powerful data manipulation and analysis library.\n",
    "from statsmodels.tsa.arima.model import ARIMA\n",
    "#A class from the statsmodels library used for time series forecasting.\n",
    "\n",
    "# Load the data\n",
    "data = pd.read_csv(\"Duplicated_Billing_Data_1_randomized.csv\")\n",
    "#The data is loaded from a CSV file named \"Duplicated_Billing_Data_1_randomized.csv\" into a pandas DataFrame called data.\n",
    "\n",
    "# Convert date columns to datetime format\n",
    "data['BillingPeriodEndDate'] = pd.to_datetime(data['BillingPeriodEndDate'])\n",
    "#The 'BillingPeriodEndDate' column, which contains date information, \n",
    "# is converted to datetime format to facilitate time series operations.\n",
    "\n",
    "# Set the date column as index\n",
    "data.set_index('BillingPeriodEndDate', inplace=True)\n",
    "#The 'BillingPeriodEndDate' column is set as the index of the DataFrame. \n",
    "# This is essential for time series analysis as it allows pandas to recognize \n",
    "# and handle the data in a time-series format.\n",
    "\n",
    "# Resample data to monthly and sum the TotalCost\n",
    "monthly_data = data['TotalCost'].resample('M').sum()\n",
    "#The data is resampled to monthly frequency using the 'M' alias,\n",
    "# and the sum of 'TotalCost' for each month is calculated.\n",
    "# This step aggregates the total cost on a monthly basis.\n",
    "\n",
    "# Fit ARIMA model\n",
    "model = ARIMA(monthly_data, order=(1, 1, 1))  # Example order, you may need to adjust\n",
    "model_fit = model.fit()\n",
    "#An ARIMA model is created with the specified order (1, 1, 1). \n",
    "# The parameters (p, d, q) are:\n",
    "#p: Number of lag observations included in the model (AR part).\n",
    "#d: Number of times that the raw observations are differenced (I part).\n",
    "#q: Size of the moving average window (MA part).\n",
    "\n",
    "# Forecast next month's cost\n",
    "forecast = model_fit.forecast(steps=1)\n",
    "#The forecast method is used to predict future values.\n",
    "# steps=1 indicates that we are forecasting the cost for the next month.\n",
    "\n",
    "# Print the forecasted cost for the next month\n",
    "next_month = monthly_data.index[-1] + pd.DateOffset(months=1)\n",
    "print(f\"Predicted cost for {next_month.strftime('%B %Y')}: ${forecast[0]}\")\n",
    "#next_month: Calculates the next month's date by taking the last date in the monthly_data index and adding one month using pd.DateOffset.\n",
    "#print(...): Prints the forecasted cost for the next month in a readable format, showing the predicted cost and the corresponding month and year.\n",
    "\n",
    "\n",
    "#ARIMA\n",
    "#ARIMA, which stands for AutoRegressive Integrated Moving Average, is a popular statistical method used for analyzing and forecasting time series data. It combines three components:\n",
    "\n",
    "#AutoRegressive (AR) Component:\n",
    "#Uses the dependency between an observation and a number of lagged (previous) observations.\n",
    "\n",
    "#Integrated (I) Component:\n",
    "#Uses differencing of raw observations to make the time series stationary (i.e., removing trends or seasonality).\n",
    "\n",
    "#Moving Average (MA) Component:\n",
    "#Uses dependency between an observation and a residual error from a moving average model applied to lagged observations.\n",
    "\n"
   ]
  }
 ],
 "metadata": {
  "kernelspec": {
   "display_name": "Python 3",
   "language": "python",
   "name": "python3"
  },
  "language_info": {
   "codemirror_mode": {
    "name": "ipython",
    "version": 3
   },
   "file_extension": ".py",
   "mimetype": "text/x-python",
   "name": "python",
   "nbconvert_exporter": "python",
   "pygments_lexer": "ipython3",
   "version": "3.12.1"
  }
 },
 "nbformat": 4,
 "nbformat_minor": 2
}
